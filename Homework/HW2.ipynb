{
 "cells": [
  {
   "cell_type": "code",
   "execution_count": 26,
   "id": "e2ebeec4-7b6a-446b-bbd1-eac4d176ce24",
   "metadata": {},
   "outputs": [],
   "source": [
    "import numpy as np\n",
    "import matplotlib\n",
    "import matplotlib.pyplot as plt\n",
    "import scipy\n",
    "from scipy import stats, signal"
   ]
  },
  {
   "cell_type": "markdown",
   "id": "8da0f99b-72cf-4ea3-ad0a-ca224df5f03c",
   "metadata": {},
   "source": [
    "Which is more probable when rolling 2 six-sided dice: rolling snake eyes (two ones) or rolling sevens (dice sum to seven)? What is the ratio of the probabilities?"
   ]
  },
  {
   "cell_type": "code",
   "execution_count": 29,
   "id": "968c3215-b4c7-4bda-8114-752709eb85e1",
   "metadata": {},
   "outputs": [
    {
     "name": "stdout",
     "output_type": "stream",
     "text": [
      "0.027777777777777776 0.16666666666666666\n"
     ]
    }
   ],
   "source": [
    "# rolling sevens is more probable\n",
    "\n",
    "# snake eyes: probability of 1 AND 1\n",
    "prob_1 = (1/6) * (1/6)\n",
    "\n",
    "# sevens: six combinations will give you a sum of seven [(1,6), (2,5), (3,4), (4,3), (5,2), (6,1)]\n",
    "# probability of X AND Y, 6 times\n",
    "prob_2 = (1/6)*(1/6)*6\n",
    "\n",
    "print(prob_1, prob_2)"
   ]
  },
  {
   "cell_type": "markdown",
   "id": "4f018443-999d-4902-aa01-ca6fad2e230c",
   "metadata": {},
   "source": [
    "Following what we did in class show how to use the convolution operator to determine the probability of the sum of 2 six sided dice. Do both analytically (math & counting) and numerically (computer program). Beware the implicit definition of the values (x-axis on histogram)"
   ]
  },
  {
   "cell_type": "code",
   "execution_count": 80,
   "id": "958fcc54-d5e8-4b43-afcf-fdfe567b01e8",
   "metadata": {},
   "outputs": [
    {
     "name": "stdout",
     "output_type": "stream",
     "text": [
      "[0.02777778 0.05555556 0.08333333 0.11111111 0.13888889 0.16666667\n",
      " 0.13888889 0.11111111 0.08333333 0.05555556 0.02777778]\n"
     ]
    }
   ],
   "source": [
    "# Numerically\n",
    "\n",
    "# all values of a dice roll have a probability of 1/6\n",
    "sums = np.arange(2, 13, 1)\n",
    "dice_prob = np.array([1/6, 1/6, 1/6, 1/6, 1/6, 1/6])\n",
    "conv = np.convolve(dice_prob, dice_prob)\n",
    "print(conv)"
   ]
  },
  {
   "cell_type": "code",
   "execution_count": 87,
   "id": "74185ec3-245a-4875-81d0-f67759b87dda",
   "metadata": {},
   "outputs": [
    {
     "data": {
      "image/png": "[encoded data removed]",
      "text/plain": [
       "<Figure size 432x288 with 1 Axes>"
      ]
     },
     "metadata": {
      "needs_background": "light"
     },
     "output_type": "display_data"
    }
   ],
   "source": [
    "fig, ax = plt.subplots(1,1)\n",
    "ax.plot(sums, conv)\n",
    "ax.set_xlim(1, 13)\n",
    "plt.show()"
   ]
  },
  {
   "cell_type": "code",
   "execution_count": 64,
   "id": "c02c1c6d-9828-4d14-8eb2-0f13f846b2e5",
   "metadata": {},
   "outputs": [
    {
     "name": "stdout",
     "output_type": "stream",
     "text": [
      "[0.02777778 0.05555556 0.08333333 0.11111111 0.13888889 0.16666667\n",
      " 0.13888889 0.11111111 0.08333333 0.05555556 0.02777778]\n"
     ]
    }
   ],
   "source": [
    "# Analytically\n",
    "\n",
    "prob_2 = (1/6)*(1/6)\n",
    "prob_3 = (1/6)*(1/6)*2\n",
    "prob_4 = (1/6)*(1/6)*3\n",
    "prob_5 = (1/6)*(1/6)*4\n",
    "prob_6 = (1/6)*(1/6)*5\n",
    "prob_7 = (1/6)*(1/6)*6\n",
    "prob_8 = (1/6)*(1/6)*5\n",
    "prob_9 = (1/6)*(1/6)*4\n",
    "prob_10 = (1/6)*(1/6)*3\n",
    "prob_11 = (1/6)*(1/6)*2\n",
    "prob_12 = (1/6)*(1/6)\n",
    "\n",
    "prob_sum = np.array([prob_2, prob_3, prob_4, prob_5, prob_6, prob_7, prob_8, prob_9, prob_10, prob_11, prob_12])\n",
    "print(prob_sum)"
   ]
  },
  {
   "cell_type": "markdown",
   "id": "f562d419-1e3c-4aec-991e-5fbdca1006fe",
   "metadata": {},
   "source": [
    "Calculate the mean and the variance of the distribution in problem 2. Hint: this is surprisingly tricky, make sure your result makes sense."
   ]
  },
  {
   "cell_type": "code",
   "execution_count": 70,
   "id": "b6976439-0740-491f-ae9e-bf35fa584205",
   "metadata": {},
   "outputs": [
    {
     "name": "stdout",
     "output_type": "stream",
     "text": [
      "0.09090909090909091 0.04446165874156316\n"
     ]
    }
   ],
   "source": [
    "mean = np.mean(conv)\n",
    "std = np.std(conv)\n",
    "\n",
    "print(mean, std)"
   ]
  },
  {
   "cell_type": "code",
   "execution_count": 84,
   "id": "e88d0d01-17e4-4d4b-a50f-f8282218ee5e",
   "metadata": {},
   "outputs": [
    {
     "data": {
      "image/png": "[encoded data removed]",
      "text/plain": [
       "<Figure size 432x288 with 1 Axes>"
      ]
     },
     "metadata": {
      "needs_background": "light"
     },
     "output_type": "display_data"
    }
   ],
   "source": [
    "fig, ax = plt.subplots(1,1)\n",
    "ax.plot(sums/len(sums), conv)\n",
    "# ax.set_xlim(1, 13)\n",
    "plt.show()"
   ]
  },
  {
   "cell_type": "code",
   "execution_count": null,
   "id": "b926038e-cb63-45b4-a891-b30c7411a0b5",
   "metadata": {},
   "outputs": [],
   "source": []
  }
 ],
 "metadata": {
  "kernelspec": {
   "display_name": "Python 3",
   "language": "python",
   "name": "python3"
  },
  "language_info": {
   "codemirror_mode": {
    "name": "ipython",
    "version": 3
   },
   "file_extension": ".py",
   "mimetype": "text/x-python",
   "name": "python",
   "nbconvert_exporter": "python",
   "pygments_lexer": "ipython3",
   "version": "3.8.8"
  }
 },
 "nbformat": 4,
 "nbformat_minor": 5
}
