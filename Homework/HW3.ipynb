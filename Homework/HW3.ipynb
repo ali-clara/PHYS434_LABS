{
 "cells": [
  {
   "cell_type": "code",
   "execution_count": 7,
   "id": "f8e04048-f785-43d5-b9fe-4a7e50d35148",
   "metadata": {},
   "outputs": [],
   "source": [
    "import numpy as np\n",
    "import matplotlib\n",
    "import matplotlib.pyplot as plt\n",
    "import scipy\n",
    "from scipy import stats\n",
    "import pandas as pd\n",
    "\n",
    "#this sets the size of the plot to something useful\n",
    "plt.rcParams[\"figure.figsize\"] = (15,10)"
   ]
  },
  {
   "cell_type": "markdown",
   "id": "d1894d51-c6c3-4dc8-9eeb-763fc8105f56",
   "metadata": {},
   "source": [
    "#### Problem 1\n",
    "\n",
    "**1a)** The first algorithm makes fewer mistakes. It miscategorizes three of the birds as people and five of the people as birds for a total of 8 mistakes. The second algorithm miscategorizes one of the birds as people and 11 of the people as birds for a total of 12 mistakes.\n",
    "\n",
    "**1b)** The second algorithm is better for the zoo because it miscategorizes fewer of the birds. Since the door opens when the NN sees a human but locks when it sees a bird, it should categorize fewer true birds as people. It only miscategorizes one bird, whereas the first miscategorizes three birds.\n",
    "\n",
    "**1c)**\n",
    "\n",
    "The first algorithm if the distribution was instead 99 True Birds and 1 True Person. This is using the same percentage as the original table (i.e 93.75% True Birds were classified as NN birds) rounded to the nearest 1 person or bird."
   ]
  },
  {
   "cell_type": "code",
   "execution_count": 8,
   "id": "ba14cb4c-d564-4b2b-ad9e-a4cc1387178d",
   "metadata": {},
   "outputs": [
    {
     "data": {
      "text/html": [
       "<div>\n",
       "<style scoped>\n",
       "    .dataframe tbody tr th:only-of-type {\n",
       "        vertical-align: middle;\n",
       "    }\n",
       "\n",
       "    .dataframe tbody tr th {\n",
       "        vertical-align: top;\n",
       "    }\n",
       "\n",
       "    .dataframe thead th {\n",
       "        text-align: right;\n",
       "    }\n",
       "</style>\n",
       "<table border=\"1\" class=\"dataframe\">\n",
       "  <thead>\n",
       "    <tr style=\"text-align: right;\">\n",
       "      <th></th>\n",
       "      <th></th>\n",
       "      <th>True Bird</th>\n",
       "      <th>Bad Person</th>\n",
       "    </tr>\n",
       "  </thead>\n",
       "  <tbody>\n",
       "    <tr>\n",
       "      <th>0</th>\n",
       "      <td>NN Bird</td>\n",
       "      <td>93</td>\n",
       "      <td>0</td>\n",
       "    </tr>\n",
       "    <tr>\n",
       "      <th>1</th>\n",
       "      <td>NN Person</td>\n",
       "      <td>6</td>\n",
       "      <td>1</td>\n",
       "    </tr>\n",
       "    <tr>\n",
       "      <th>2</th>\n",
       "      <td>Count</td>\n",
       "      <td>99</td>\n",
       "      <td>1</td>\n",
       "    </tr>\n",
       "  </tbody>\n",
       "</table>\n",
       "</div>"
      ],
      "text/plain": [
       "              True Bird  Bad Person\n",
       "0    NN Bird         93           0\n",
       "1  NN Person          6           1\n",
       "2      Count         99           1"
      ]
     },
     "execution_count": 8,
     "metadata": {},
     "output_type": "execute_result"
    }
   ],
   "source": [
    "my_data = {'':['NN Bird', 'NN Person', 'Count'], 'True Bird': [93, 6, 99], 'Bad Person': [0, 1, 1]}\n",
    "df = pd.DataFrame(data=my_data)\n",
    "df"
   ]
  },
  {
   "cell_type": "markdown",
   "id": "6b3aad0e-54a7-4a08-a141-94eb11ff7356",
   "metadata": {},
   "source": [
    "The second algorithm if the distribution was instead 99 True Birds and 1 True Person. This is using the same percentage as the original table (i.e 97.92% True Birds were classified as NN birds) rounded to the nearest 1 person or bird."
   ]
  },
  {
   "cell_type": "code",
   "execution_count": 9,
   "id": "ee152679-eca1-43cb-ad7f-08e47684877d",
   "metadata": {},
   "outputs": [
    {
     "data": {
      "text/html": [
       "<div>\n",
       "<style scoped>\n",
       "    .dataframe tbody tr th:only-of-type {\n",
       "        vertical-align: middle;\n",
       "    }\n",
       "\n",
       "    .dataframe tbody tr th {\n",
       "        vertical-align: top;\n",
       "    }\n",
       "\n",
       "    .dataframe thead th {\n",
       "        text-align: right;\n",
       "    }\n",
       "</style>\n",
       "<table border=\"1\" class=\"dataframe\">\n",
       "  <thead>\n",
       "    <tr style=\"text-align: right;\">\n",
       "      <th></th>\n",
       "      <th></th>\n",
       "      <th>True Bird</th>\n",
       "      <th>Bad Person</th>\n",
       "    </tr>\n",
       "  </thead>\n",
       "  <tbody>\n",
       "    <tr>\n",
       "      <th>0</th>\n",
       "      <td>NN Bird</td>\n",
       "      <td>97</td>\n",
       "      <td>0</td>\n",
       "    </tr>\n",
       "    <tr>\n",
       "      <th>1</th>\n",
       "      <td>NN Person</td>\n",
       "      <td>2</td>\n",
       "      <td>1</td>\n",
       "    </tr>\n",
       "    <tr>\n",
       "      <th>2</th>\n",
       "      <td>Count</td>\n",
       "      <td>99</td>\n",
       "      <td>1</td>\n",
       "    </tr>\n",
       "  </tbody>\n",
       "</table>\n",
       "</div>"
      ],
      "text/plain": [
       "              True Bird  Bad Person\n",
       "0    NN Bird         97           0\n",
       "1  NN Person          2           1\n",
       "2      Count         99           1"
      ]
     },
     "execution_count": 9,
     "metadata": {},
     "output_type": "execute_result"
    }
   ],
   "source": [
    "my_data = {'':['NN Bird', 'NN Person', 'Count'], 'True Bird': [97, 2, 99], 'Bad Person': [0, 1, 1]}\n",
    "df = pd.DataFrame(data=my_data)\n",
    "df"
   ]
  },
  {
   "cell_type": "markdown",
   "id": "f2049cbf-21a0-42bc-bf0a-508b093e4832",
   "metadata": {},
   "source": [
    "#### Problem 2"
   ]
  },
  {
   "cell_type": "markdown",
   "id": "9e364ac7-4b89-4e79-a29f-035aca75a200",
   "metadata": {},
   "source": [
    "**2a)** What is the pdf of the sum of two identical exponential distributions?\n",
    "\n",
    "On the [Wikipedia page](https://en.wikipedia.org/wiki/Exponential_distribution) there is a subsection on the [Sum of two independent exponential random variables](https://en.wikipedia.org/wiki/Exponential_distribution#Sum_of_two_independent_exponential_random_variables).\n",
    "\n",
    "If $\\lambda_1$ and $\\lambda_2$ are the rate parameters of the two distributions, the PDF of the sum is given by\n",
    "\n",
    "\\begin{aligned}f_{Z}(z)&=\\int _{-\\infty }^{\\infty }f_{X_{1}}(x_{1})f_{X_{2}}(z-x_{1})\\,dx_{1}\\\\&={\\begin{cases}{\\dfrac {\\lambda _{1}\\lambda _{2}}{\\lambda _{2}-\\lambda _{1}}}\\left(e^{-\\lambda _{1}z}-e^{-\\lambda _{2}z}\\right)&{\\text{ if }}\\lambda _{1}\\neq \\lambda _{2}\\\\[4pt]\\lambda ^{2}ze^{-\\lambda z}&{\\text{ if }}\\lambda _{1}=\\lambda _{2}=\\lambda .\\end{cases}}\\end{aligned}"
   ]
  },
  {
   "cell_type": "markdown",
   "id": "a7881786-3a33-4be4-8030-4c721818dd0c",
   "metadata": {},
   "source": [
    "**2b)** What is the pdf of the ratio of two zero-mean unity variance normal distributions $X_1/X_2$?\n",
    "\n",
    "On the [Wikipedia page](https://en.wikipedia.org/wiki/Normal_distribution) there is a subsection on the [Operations on two independent standard normal variables](https://en.wikipedia.org/wiki/Normal_distribution). The ratio of two standard normal distributions follows the standard Cauchy distribution $X_1/X_2 \\sim \\operatorname {Cauchy} (0,1)$.\n",
    "\n",
    "From that [Wikipedia page](https://en.wikipedia.org/wiki/Cauchy_distribution), the standard Cauchy with location parameter $x_0 = 0$ and scale parameter $\\gamma = 1$ is\n",
    "\n",
    "\\begin{aligned}  f(x; 0,1) = \\frac{1}{\\pi (1 + x^2)}. \\end{aligned}"
   ]
  },
  {
   "cell_type": "markdown",
   "id": "b60479da-a8a4-4a96-9e3c-364e9750c7d9",
   "metadata": {},
   "source": [
    "**2c)** So far we have looked at 1D probability distributions, but it is possible to have a multi-dimensional vector distribution. A simple first introduction is the 2D Guassian; it looks like a smeared spot. Mathematically this is given by $X\\hat{i} + Y\\hat{j}$ where both X and Y are drawn from 1D Gaussian distributions. If I measure the amplitude of this vector, what is its pdf? (Hint, the amplitude is always positive.)\n",
    "\n",
    "The PDF of the amplitude of this vector will be the PDF of $\\sqrt{X^2 + Y^2}$ where $X$ and $Y$ are Gaussian. On the [Wikipedia page](https://en.wikipedia.org/wiki/Normal_distribution), the Euclidian norm, $\\sqrt{X_1^2 + X_2^2}$ has a Rayleigh Distribution.\n",
    "\n",
    "From that [Wikipedia Page](https://en.wikipedia.org/wiki/Rayleigh_distribution), the PDF of a Rayleigh is \n",
    "\n",
    "\\begin{aligned}f(x;\\sigma )={\\frac {x}{\\sigma ^{2}}}e^{-x^{2}/(2\\sigma ^{2})},\\quad x\\geq 0\\end{aligned}"
   ]
  },
  {
   "cell_type": "code",
   "execution_count": null,
   "id": "4fb0de19-9ebf-4545-8fdd-f3ea4f386453",
   "metadata": {},
   "outputs": [],
   "source": []
  }
 ],
 "metadata": {
  "kernelspec": {
   "display_name": "Python 3",
   "language": "python",
   "name": "python3"
  },
  "language_info": {
   "codemirror_mode": {
    "name": "ipython",
    "version": 3
   },
   "file_extension": ".py",
   "mimetype": "text/x-python",
   "name": "python",
   "nbconvert_exporter": "python",
   "pygments_lexer": "ipython3",
   "version": "3.8.8"
  }
 },
 "nbformat": 4,
 "nbformat_minor": 5
}
